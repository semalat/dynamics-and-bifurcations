{
 "cells": [
  {
   "cell_type": "markdown",
   "id": "7e9fafb8",
   "metadata": {},
   "source": [
    "# Классическая модель Фитцхью Нагумо:\n",
    "\n",
    "$$\\begin{equation}\n",
    "\\begin{cases}\n",
    "\\pmb{V_t= V- \\frac{V^3}{3}- U + I}\\\\\n",
    "\\pmb{\\tau  U_t= V - \\text{$\\beta $U} - \\alpha}\\\\\n",
    "\\end{cases}\n",
    "\\end{equation}$$\n",
    "\n",
    "\n"
   ]
  },
  {
   "cell_type": "code",
   "execution_count": 3,
   "id": "2f1a74e9",
   "metadata": {},
   "outputs": [],
   "source": [
    "import numpy as np\n",
    "from scipy.integrate import odeint\n",
    "import matplotlib.pyplot as plt"
   ]
  },
  {
   "cell_type": "code",
   "execution_count": 4,
   "id": "2eedda67",
   "metadata": {},
   "outputs": [],
   "source": [
    "# y — вектор переменных состояния\n",
    "# t — время\n",
    "# b, sgm, eps, a — параметры ДУ\n",
    "\n",
    "def ode(y, t, b, sgm, eps, a):\n",
    "        U, V = y\n",
    "        dydt = [eps * (V - b * U - a), V - (V ** 3)/3 - U + sgm]\n",
    "        return dydt"
   ]
  },
  {
   "cell_type": "code",
   "execution_count": 5,
   "id": "a02b8829",
   "metadata": {},
   "outputs": [],
   "source": [
    "# args — Параметры ОДУ\n",
    "# y0— Начальные условия для первой переменной состояния\n",
    "# dy0 — Начальные условия для второй переменной состояния\n",
    "# ts — длительность решения\n",
    "# nt — Количество шагов в решении (= время интегрирования * шаг времени)\n",
    "\n",
    "def calcODE(args, y0, dy0, ts, nt):\n",
    "    y0 = [y0, dy0]\n",
    "    t = np.linspace(0, ts, nt)\n",
    "    sol = odeint(ode, y0, t, args)\n",
    "    return sol"
   ]
  },
  {
   "cell_type": "code",
   "execution_count": 6,
   "id": "945d38a4",
   "metadata": {},
   "outputs": [],
   "source": [
    "# deltaX — Шаг начальных условий по горизонтальной оси (переменной состояния)\n",
    "# deltaDX — Шаг начальных условий по вертикальной оси (производной переменной состояния)\n",
    "# startX — Начальное значение интервала начальных условий\n",
    "# stopX — Конечное значение интервала начальных условий\n",
    "# startDX — Начальное значение интервала начальных условий\n",
    "# stopDX — Конечное значение интервала начальных условий\n",
    "\n",
    "def drawPhasePortrait(args, deltaX, deltaDX, startX,  stopX, startDX, stopDX, ts, nt):\n",
    "    for y0 in range(startX, stopX, deltaX):\n",
    "            for dy0 in range(startDX, stopDX, deltaDX):\n",
    "                sol = calcODE(args, y0, dy0, ts, nt)\n",
    "                plt.plot(sol[:, 1], sol[:, 0], 'b')\n",
    "    plt.xlabel('V')\n",
    "    plt.ylabel('U')\n",
    "    plt.xlim (-5, 5)\n",
    "    plt.ylim (-5, 5)\n",
    "    plt.grid(1)\n",
    "    plt.show()"
   ]
  },
  {
   "cell_type": "code",
   "execution_count": 7,
   "id": "52967dd8",
   "metadata": {},
   "outputs": [],
   "source": [
    "def drawPhasePortrait_ending(args, deltaX, deltaDX, startX,  stopX, startDX, stopDX, ts, nt):\n",
    "    for y0 in range(startX, stopX, deltaX):\n",
    "            for dy0 in range(startDX, stopDX, deltaDX):\n",
    "                sol = calcODE(args, y0, dy0, ts, nt)\n",
    "                plt.plot(sol[1800:, 1], sol[1800:, 0], 'b')\n",
    "                #print(sol[1800:, 0])\n",
    "    plt.xlabel('V')\n",
    "    plt.ylabel('U')\n",
    "    plt.xlim (-5, 5)\n",
    "    plt.ylim (-5, 5)\n",
    "    plt.grid(1)\n",
    "    plt.show()"
   ]
  },
  {
   "cell_type": "code",
   "execution_count": 8,
   "id": "ebeaef5a",
   "metadata": {},
   "outputs": [
    {
     "data": {
      "image/png": "[encoded data removed]",
      "text/plain": [
       "<Figure size 432x288 with 1 Axes>"
      ]
     },
     "metadata": {
      "needs_background": "light"
     },
     "output_type": "display_data"
    }
   ],
   "source": [
    "a = -0.7;\n",
    "b = 0.8;\n",
    "eps = 0.08;\n",
    "sgm = 0.8;\n",
    "args=(b, sgm, eps, a)\n",
    "drawPhasePortrait(args, 1, 1, -6, 6, -6, 6, ts = 100, nt = 2001)\n",
    "plt.show()"
   ]
  },
  {
   "cell_type": "code",
   "execution_count": 9,
   "id": "d4101f1b",
   "metadata": {},
   "outputs": [
    {
     "data": {
      "image/png": "[encoded data removed]",
      "text/plain": [
       "<Figure size 432x288 with 1 Axes>"
      ]
     },
     "metadata": {
      "needs_background": "light"
     },
     "output_type": "display_data"
    }
   ],
   "source": [
    "a = -0.7;\n",
    "b = 0.8;\n",
    "eps = 0.08;\n",
    "sgm = 0.8;\n",
    "args=(b, sgm, eps, a)\n",
    "drawPhasePortrait_ending(args, 1, 1, -6, 6, -6, 6, ts = 100, nt = 2001)\n",
    "plt.show()"
   ]
  },
  {
   "cell_type": "code",
   "execution_count": null,
   "id": "130af650",
   "metadata": {},
   "outputs": [],
   "source": []
  },
  {
   "cell_type": "code",
   "execution_count": null,
   "id": "b2c1ad55",
   "metadata": {},
   "outputs": [],
   "source": []
  },
  {
   "cell_type": "code",
   "execution_count": null,
   "id": "8c8afaac",
   "metadata": {},
   "outputs": [],
   "source": []
  },
  {
   "cell_type": "code",
   "execution_count": null,
   "id": "12a5096d",
   "metadata": {},
   "outputs": [],
   "source": []
  },
  {
   "cell_type": "code",
   "execution_count": null,
   "id": "648283ad",
   "metadata": {},
   "outputs": [],
   "source": []
  },
  {
   "cell_type": "code",
   "execution_count": null,
   "id": "4e3e4c32",
   "metadata": {},
   "outputs": [],
   "source": []
  },
  {
   "cell_type": "code",
   "execution_count": null,
   "id": "3a235acf",
   "metadata": {},
   "outputs": [],
   "source": []
  },
  {
   "cell_type": "code",
   "execution_count": null,
   "id": "85a9b0e9",
   "metadata": {},
   "outputs": [],
   "source": []
  },
  {
   "cell_type": "code",
   "execution_count": null,
   "id": "fb85ca43",
   "metadata": {},
   "outputs": [],
   "source": []
  },
  {
   "cell_type": "code",
   "execution_count": null,
   "id": "992cac59",
   "metadata": {},
   "outputs": [],
   "source": []
  },
  {
   "cell_type": "code",
   "execution_count": null,
   "id": "b0836a78",
   "metadata": {},
   "outputs": [],
   "source": []
  },
  {
   "cell_type": "code",
   "execution_count": null,
   "id": "4a21658b",
   "metadata": {},
   "outputs": [],
   "source": []
  },
  {
   "cell_type": "code",
   "execution_count": null,
   "id": "b61b396c",
   "metadata": {},
   "outputs": [],
   "source": []
  },
  {
   "cell_type": "code",
   "execution_count": null,
   "id": "beafe8c8",
   "metadata": {},
   "outputs": [],
   "source": []
  },
  {
   "cell_type": "code",
   "execution_count": null,
   "id": "f65e517b",
   "metadata": {},
   "outputs": [],
   "source": []
  },
  {
   "cell_type": "code",
   "execution_count": null,
   "id": "b486739b",
   "metadata": {},
   "outputs": [],
   "source": []
  },
  {
   "cell_type": "code",
   "execution_count": null,
   "id": "825c623c",
   "metadata": {},
   "outputs": [],
   "source": []
  },
  {
   "cell_type": "code",
   "execution_count": null,
   "id": "9db298f6",
   "metadata": {},
   "outputs": [],
   "source": []
  },
  {
   "cell_type": "code",
   "execution_count": null,
   "id": "42a2bddc",
   "metadata": {},
   "outputs": [],
   "source": []
  },
  {
   "cell_type": "code",
   "execution_count": null,
   "id": "a7f8191c",
   "metadata": {},
   "outputs": [],
   "source": []
  },
  {
   "cell_type": "code",
   "execution_count": null,
   "id": "95e387cc",
   "metadata": {},
   "outputs": [],
   "source": []
  },
  {
   "cell_type": "code",
   "execution_count": null,
   "id": "56f2ed9c",
   "metadata": {},
   "outputs": [],
   "source": []
  },
  {
   "cell_type": "code",
   "execution_count": null,
   "id": "2e954dbf",
   "metadata": {},
   "outputs": [],
   "source": []
  },
  {
   "cell_type": "code",
   "execution_count": null,
   "id": "949f2e48",
   "metadata": {},
   "outputs": [],
   "source": []
  },
  {
   "cell_type": "code",
   "execution_count": null,
   "id": "255043c4",
   "metadata": {},
   "outputs": [],
   "source": []
  },
  {
   "cell_type": "code",
   "execution_count": null,
   "id": "d173abdf",
   "metadata": {},
   "outputs": [],
   "source": []
  },
  {
   "cell_type": "code",
   "execution_count": null,
   "id": "38d53c7a",
   "metadata": {},
   "outputs": [],
   "source": []
  },
  {
   "cell_type": "code",
   "execution_count": null,
   "id": "d1fddac3",
   "metadata": {},
   "outputs": [],
   "source": []
  }
 ],
 "metadata": {
  "kernelspec": {
   "display_name": "Python 3",
   "language": "python",
   "name": "python3"
  },
  "language_info": {
   "codemirror_mode": {
    "name": "ipython",
    "version": 3
   },
   "file_extension": ".py",
   "mimetype": "text/x-python",
   "name": "python",
   "nbconvert_exporter": "python",
   "pygments_lexer": "ipython3",
   "version": "3.9.1"
  }
 },
 "nbformat": 4,
 "nbformat_minor": 5
}
