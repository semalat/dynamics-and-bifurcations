{
 "cells": [
  {
   "cell_type": "markdown",
   "id": "665c9427",
   "metadata": {},
   "source": [
    "# Сечение Пуанкаре.\n",
    "\n",
    "\n",
    "\n",
    "$\\begin{equation}\n",
    "\t\t\t\\theta = \\frac{2\\pi k}{\\omega}, k- целое\n",
    "\t\t\\end{equation}$"
   ]
  },
  {
   "cell_type": "code",
   "execution_count": 2,
   "id": "e1df13ad",
   "metadata": {},
   "outputs": [],
   "source": [
    "import numpy as np\n",
    "from scipy.integrate import odeint\n",
    "import matplotlib.pyplot as plt\n",
    "from math import pi"
   ]
  },
  {
   "cell_type": "code",
   "execution_count": 3,
   "id": "f4a09079",
   "metadata": {},
   "outputs": [],
   "source": [
    "def ode(y, t):\n",
    "        T, U, V = y\n",
    "        dydt = [w, eps * (V - b * U - a), V - (V ** 3)/3 - U + I_0 * np.sin(T)]\n",
    "        return dydt"
   ]
  },
  {
   "cell_type": "code",
   "execution_count": 4,
   "id": "497eebb5",
   "metadata": {},
   "outputs": [],
   "source": [
    "def calcODE(args, y0, dy0, ddy0, ts, nt):\n",
    "    y = [y0, dy0, ddy0]\n",
    "    t = np.linspace(0, ts, nt)\n",
    "    sol = odeint(ode, y, t)\n",
    "    return sol"
   ]
  },
  {
   "cell_type": "code",
   "execution_count": 5,
   "id": "350f3342",
   "metadata": {},
   "outputs": [],
   "source": [
    "def Puankare_section(args, deltaX, deltaDX, deltaDDX, startX, stopX, startDX, stopDX, startDDX, stopDDX, ts, nt):\n",
    "    y0 = 0\n",
    "    dy0 = 0\n",
    "    ddy0 = 0\n",
    "    sol = calcODE(args, y0, dy0, ddy0, ts, nt)\n",
    "    plt.scatter(sol[900:, 2], sol[900:, 1], c = 'b')\n",
    "    plt.xlabel('V')\n",
    "    plt.ylabel('U')\n",
    "    plt.grid(1)\n",
    "    plt.show()"
   ]
  },
  {
   "cell_type": "code",
   "execution_count": 8,
   "id": "be2691a2",
   "metadata": {},
   "outputs": [
    {
     "data": {
      "image/png": "[encoded data removed]",
      "text/plain": [
       "<Figure size 432x288 with 1 Axes>"
      ]
     },
     "metadata": {
      "needs_background": "light"
     },
     "output_type": "display_data"
    }
   ],
   "source": [
    "I_0 = 1;\n",
    "w = 1;\n",
    "a = -0.7;\n",
    "b = 0.8;\n",
    "eps = 0.08;\n",
    "args=(b, eps, a)\n",
    "Puankare_section(args, 1, 1, 1, -6, 6, -6, 6, -6, 6, ts = 10000 * pi , nt = 1001)"
   ]
  },
  {
   "cell_type": "code",
   "execution_count": null,
   "id": "8502e185",
   "metadata": {},
   "outputs": [],
   "source": []
  },
  {
   "cell_type": "code",
   "execution_count": null,
   "id": "4c78a37f",
   "metadata": {},
   "outputs": [],
   "source": []
  },
  {
   "cell_type": "code",
   "execution_count": null,
   "id": "5e635159",
   "metadata": {},
   "outputs": [],
   "source": []
  },
  {
   "cell_type": "code",
   "execution_count": null,
   "id": "04cb7b14",
   "metadata": {},
   "outputs": [],
   "source": []
  },
  {
   "cell_type": "code",
   "execution_count": null,
   "id": "7ebde952",
   "metadata": {},
   "outputs": [],
   "source": []
  }
 ],
 "metadata": {
  "kernelspec": {
   "display_name": "Python 3",
   "language": "python",
   "name": "python3"
  },
  "language_info": {
   "codemirror_mode": {
    "name": "ipython",
    "version": 3
   },
   "file_extension": ".py",
   "mimetype": "text/x-python",
   "name": "python",
   "nbconvert_exporter": "python",
   "pygments_lexer": "ipython3",
   "version": "3.9.1"
  }
 },
 "nbformat": 4,
 "nbformat_minor": 5
}
